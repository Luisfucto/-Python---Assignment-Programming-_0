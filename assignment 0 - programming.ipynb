{
 "cells": [
  {
   "cell_type": "markdown",
   "metadata": {},
   "source": [
    "## Create a program to calculate the change of currencies:"
   ]
  },
  {
   "cell_type": "code",
   "execution_count": null,
   "metadata": {},
   "outputs": [],
   "source": [
    "currency1 = input(\"what currency do you want to convert? $, £ or €\")\n",
    "print(currency1)\n",
    "\n",
    "currency2 = input(\"what currency do you want to convert into? $, £ or €\")\n",
    "print(currency2)\n",
    "\n",
    "convert = int(input(\"how much do you want to convert?\"))\n",
    "\n",
    "if currency1 == \"$\":\n",
    "    if currency2 == \"£\":\n",
    "        conversion = convert * 0.75\n",
    "    else:\n",
    "        conversion = convert * 0.85\n",
    "if currency1 == \"€\":\n",
    "    if currency2 == \"$\":\n",
    "        conversion = convert * 1.18\n",
    "    else:\n",
    "        conversion = convert * 0.89\n",
    "if currency1 == \"£\":\n",
    "    if currency2 == \"$\":\n",
    "        conversion = convert * 1.33\n",
    "    else:\n",
    "        conversion = convert * 1.13\n",
    "print(conversion)"
   ]
  },
  {
   "cell_type": "code",
   "execution_count": null,
   "metadata": {},
   "outputs": [],
   "source": []
  }
 ],
 "metadata": {
  "kernelspec": {
   "display_name": "Python 3",
   "language": "python",
   "name": "python3"
  },
  "language_info": {
   "codemirror_mode": {
    "name": "ipython",
    "version": 3
   },
   "file_extension": ".py",
   "mimetype": "text/x-python",
   "name": "python",
   "nbconvert_exporter": "python",
   "pygments_lexer": "ipython3",
   "version": "3.8.5"
  }
 },
 "nbformat": 4,
 "nbformat_minor": 4
}
